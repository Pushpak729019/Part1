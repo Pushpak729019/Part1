{
 "cells": [
  {
   "cell_type": "code",
   "execution_count": 14,
   "id": "3f62c8ba-7137-4761-98d8-ef706e921519",
   "metadata": {},
   "outputs": [
    {
     "name": "stdin",
     "output_type": "stream",
     "text": [
      "Enter the maximum weight of the knapsack:  100\n",
      "Enter the number of items:  5\n",
      "Enter the value for item 1:  20\n",
      "Enter the weight for item 1:  10\n",
      "Enter the value for item 2:  30\n",
      "Enter the weight for item 2:  20\n",
      "Enter the value for item 3:  66\n",
      "Enter the weight for item 3:  30\n",
      "Enter the value for item 4:  40\n",
      "Enter the weight for item 4:  40\n",
      "Enter the value for item 5:  60\n",
      "Enter the weight for item 5:  50\n"
     ]
    },
    {
     "name": "stdout",
     "output_type": "stream",
     "text": [
      "Adding full item with value 66 and weight 30\n",
      "Adding full item with value 20 and weight 10\n",
      "Adding full item with value 30 and weight 20\n",
      "Adding 0.80 of item with value 60 and weight 50\n",
      "\n",
      "Maximum value we can obtain = 164.0\n"
     ]
    }
   ],
   "source": [
    "class Item:\n",
    "    def __init__(self, value, weight):                                                 # Initialize the item with its value (profit) and weight\n",
    "        self.value = value\n",
    "        self.weight = weight\n",
    "\n",
    "def ratio(item):                                                   # Function to calculate the value-to-weight ratio of an item\n",
    "    return item.value / item.weight\n",
    "\n",
    "def fractional_knapsack(max_weight, items):                                            # Sort items based on value-to-weight ratio in descending order\n",
    "    items.sort(key=ratio, reverse=True)\n",
    "    total_value = 0.0                                                                  # Initialize the total value of items added to the knapsack\n",
    "                                                                                       # Process each item\n",
    "    for item in items:                                                                 # Check if the entire item can be added to the knapsack\n",
    "        if item.weight <= max_weight:\n",
    "            max_weight -= item.weight                                                  # Reduce knapsack capacity\n",
    "            total_value += item.value                                                  # Add item's full value\n",
    "            print(\"Adding full item with value {} and weight {}\".format(item.value, item.weight))\n",
    "        else:                                                                           # If item can't be fully added, add fractional part\n",
    "            fraction = max_weight / item.weight\n",
    "            total_value += item.value * fraction\n",
    "            print(\"Adding {:.2f} of item with value {} and weight {}\".format(fraction, item.value, item.weight))\n",
    "            break                                                                                       # Knapsack is now full\n",
    "    return total_value\n",
    "                                                                                        # Get user inputs for knapsack capacity and items\n",
    "max_weight = int(input(\"Enter the maximum weight of the knapsack: \"))\n",
    "num_items = int(input(\"Enter the number of items: \"))\n",
    "items = []\n",
    "for i in range(num_items):\n",
    "    value = int(input(\"Enter the value for item {}: \".format(i + 1)))\n",
    "    weight = int(input(\"Enter the weight for item {}: \".format(i + 1)))\n",
    "    items.append(Item(value, weight))\n",
    "                                                                        #  Compute the maximum value possible with the given items and knapsack capacity\n",
    "max_value = fractional_knapsack(max_weight, items)\n",
    "print(\"\\nMaximum value we can obtain = {}\".format(max_value))"
   ]
  },
  {
   "cell_type": "code",
   "execution_count": null,
   "id": "ce669f97-9167-4bce-b87e-1ba132604a04",
   "metadata": {},
   "outputs": [],
   "source": []
  }
 ],
 "metadata": {
  "kernelspec": {
   "display_name": "Python 3 (ipykernel)",
   "language": "python",
   "name": "python3"
  },
  "language_info": {
   "codemirror_mode": {
    "name": "ipython",
    "version": 3
   },
   "file_extension": ".py",
   "mimetype": "text/x-python",
   "name": "python",
   "nbconvert_exporter": "python",
   "pygments_lexer": "ipython3",
   "version": "3.12.7"
  }
 },
 "nbformat": 4,
 "nbformat_minor": 5
}
