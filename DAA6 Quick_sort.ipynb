{
 "cells": [
  {
   "cell_type": "code",
   "execution_count": 22,
   "id": "67dcccd1-ba6d-4054-9412-e8f768c9ca81",
   "metadata": {},
   "outputs": [
    {
     "name": "stdin",
     "output_type": "stream",
     "text": [
      "Enter the number of elements:  5\n",
      "Enter an element:  20\n",
      "Enter an element:  10\n",
      "Enter an element:  5\n",
      "Enter an element:  25\n",
      "Enter an element:  15\n"
     ]
    },
    {
     "name": "stdout",
     "output_type": "stream",
     "text": [
      "The sorted array is: [5, 10, 15, 20, 25]\n",
      "Deterministic Quick Sort Time: 0.0 seconds\n",
      "Randomized Quick Sort Time: 0.0 seconds\n"
     ]
    }
   ],
   "source": [
    "def partition(arr, low, high):\n",
    "    pivot = arr[high]\n",
    "    PIndex = low\n",
    "    for i in range(low, high + 1):\n",
    "        if arr[i] <= pivot:\n",
    "            arr[PIndex], arr[i] = arr[i], arr[PIndex]\n",
    "            PIndex += 1\n",
    "    return PIndex - 1\n",
    "def quick_sort(arr, low, high):\n",
    "    if low < high:\n",
    "        PIndex = partition(arr, low, high)\n",
    "        quick_sort(arr, low, PIndex - 1)\n",
    "        quick_sort(arr, PIndex + 1, high)\n",
    "\n",
    "def randomized_partition(arr, low, high):\n",
    "    rand_index = random.randint(low, high)\n",
    "    arr[high], arr[rand_index] = arr[rand_index], arr[high]\n",
    "    return deterministic_partition(arr, low, high)\n",
    "\n",
    "def randomized_quick_sort(arr, low, high):\n",
    "    if low < high:\n",
    "        pi = randomized_partition(arr, low, high)\n",
    "        randomized_quick_sort(arr, low, pi - 1)\n",
    "        randomized_quick_sort(arr, pi + 1, high)\n",
    "\n",
    "def analyze_quick_sorts(arr):\n",
    "    arr_copy = arr.copy()\n",
    "\n",
    "    # Deterministic Quick Sort\n",
    "    start = time.time()\n",
    "    deterministic_quick_sort(arr, 0, len(arr) - 1)\n",
    "    end = time.time()\n",
    "    print(f\"Deterministic Quick Sort Time: {end - start} seconds\")\n",
    "\n",
    "    # Randomized Quick Sort\n",
    "    start = time.time()\n",
    "    randomized_quick_sort(arr_copy, 0, len(arr_copy) - 1)\n",
    "    end = time.time()\n",
    "    print(f\"Randomized Quick Sort Time: {end - start} seconds\")       \n",
    "# Input from user\n",
    "n = int(input(\"Enter the number of elements: \"))\n",
    "arr = []  # Initialize an empty list\n",
    "for i in range(n):\n",
    "    element = int(input(\"Enter an element: \"))# Prompt user for each element\n",
    "    arr.append(element)  # Append the element to the list\n",
    "quick_sort(arr, 0, n - 1)\n",
    "print(\"The sorted array is:\", arr)\n",
    "\n",
    "analyze_quick_sorts(arr)"
   ]
  },
  {
   "cell_type": "code",
   "execution_count": null,
   "id": "c9a79032-08ce-455b-8ec3-47ed5bee1a4a",
   "metadata": {},
   "outputs": [],
   "source": []
  }
 ],
 "metadata": {
  "kernelspec": {
   "display_name": "Python 3 (ipykernel)",
   "language": "python",
   "name": "python3"
  },
  "language_info": {
   "codemirror_mode": {
    "name": "ipython",
    "version": 3
   },
   "file_extension": ".py",
   "mimetype": "text/x-python",
   "name": "python",
   "nbconvert_exporter": "python",
   "pygments_lexer": "ipython3",
   "version": "3.12.7"
  }
 },
 "nbformat": 4,
 "nbformat_minor": 5
}
