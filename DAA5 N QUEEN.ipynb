{
 "cells": [
  {
   "cell_type": "code",
   "execution_count": 50,
   "id": "32379988-9531-43d7-9bb8-1e4f38f448ce",
   "metadata": {},
   "outputs": [
    {
     "name": "stdout",
     "output_type": "stream",
     "text": [
      "1  0  0  0  0  0  0  0\n",
      "0  0  0  0  0  0  1  0\n",
      "0  0  0  0  1  0  0  0\n",
      "0  0  0  0  0  0  0  1\n",
      "0  1  0  0  0  0  0  0\n",
      "0  0  0  1  0  0  0  0\n",
      "0  0  0  0  0  1  0  0\n",
      "0  0  1  0  0  0  0  0\n",
      "\n"
     ]
    }
   ],
   "source": [
    "N = 8                                                                      # Define the size of the chessboard\n",
    "                                                                           # Function to print the solution board\n",
    "def print_solution(board):\n",
    "                                                                          #Print the chessboard with queens placed as 1s.\"\"\"\n",
    "    for row in board:\n",
    "        print(\"  \".join(str(cell) for cell in row))\n",
    "    print()                                                                # Print a newline for better readability\n",
    "                                                                           # Function to check if a queen can be placed at board[row][col]\n",
    "def is_safe(board, row, col):\n",
    "                                                                           #Check if it's safe to place a queen at board[row][col].\"\"\"\n",
    "                                                                           # Check this row on the left side\n",
    "    for i in range(col):\n",
    "        if board[row][i] == 1:\n",
    "            return False                                                   # Another queen exists in this row on the left\n",
    "                                                                           # Check the upper diagonal on the left side\n",
    "    i, j = row, col\n",
    "    while i >= 0 and j >= 0:\n",
    "        if board[i][j] == 1:\n",
    "            return False                                                   # Another queen exists on the upper diagonal\n",
    "        i -= 1\n",
    "        j -= 1\n",
    "                                                                           # Check the lower diagonal on the left side\n",
    "    i, j = row, col\n",
    "    while j >= 0 and i < N:\n",
    "        if board[i][j] == 1:\n",
    "            return False                                                   # Another queen exists on the lower diagonal\n",
    "        i += 1\n",
    "        j -= 1\n",
    "    return True                                                            # It's safe to place a queen here\n",
    "                                                                           # Recursive utility function to solve the N-Queen problem\n",
    "def solve_nq_util(board, col):\n",
    "                                                                           #Use backtracking to place queens on the board column by column.\"\"\"\n",
    "                                                                           # Base case: If all queens are placed, return True\n",
    "    if col >= N:\n",
    "        return True\n",
    "                                                                            # Try placing a queen in each row of the current column\n",
    "    for i in range(N):\n",
    "        if is_safe(board, i, col):                                          # Check if placing a queen here is safe\n",
    "            board[i][col] = 1                                               # Place the queen\n",
    "                                                                            # Recur to place the rest of the queens\n",
    "            if solve_nq_util(board, col + 1):\n",
    "                return True                                                 # Solution found\n",
    "                                                                            # Backtrack if placing queen in board[i][col] doesn't lead to a solution\n",
    "            board[i][col] = 0                                               # Remove the queen (backtracking)\n",
    "    return False                                                            # If no row is safe in this column, return False\n",
    "                                                                            # Function to solve the N-Queen problem and print the solution\n",
    "def solve_nq():\n",
    "                                                                            #Initialize the board and start solving the N-Queen problem.\"\"\"\n",
    "                                                                            # Initialize an N x N chessboard with all cells set to 0 (no queens placed)\n",
    "    board = [[0 for _ in range(N)] for _ in range(N)]\n",
    "                                                                            # Start the recursive backtracking algorithm from the first column\n",
    "    if not solve_nq_util(board, 0):\n",
    "        print(\"Solution does not exist\")                                    # No solution found\n",
    "        return False\n",
    "                                                                            # Print the solution if a valid configuration is found\n",
    "    print_solution(board)\n",
    "    return True\n",
    "                                                              \n",
    "if __name__ == \"__main__\":                                                            # Main function to execute the code\n",
    "    solve_nq()"
   ]
  },
  {
   "cell_type": "code",
   "execution_count": null,
   "id": "155cbf66-f947-4c21-a749-36422b0871e8",
   "metadata": {},
   "outputs": [],
   "source": []
  }
 ],
 "metadata": {
  "kernelspec": {
   "display_name": "Python 3 (ipykernel)",
   "language": "python",
   "name": "python3"
  },
  "language_info": {
   "codemirror_mode": {
    "name": "ipython",
    "version": 3
   },
   "file_extension": ".py",
   "mimetype": "text/x-python",
   "name": "python",
   "nbconvert_exporter": "python",
   "pygments_lexer": "ipython3",
   "version": "3.12.7"
  }
 },
 "nbformat": 4,
 "nbformat_minor": 5
}
