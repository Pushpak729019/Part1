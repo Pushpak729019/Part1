{
 "cells": [
  {
   "cell_type": "code",
   "execution_count": null,
   "id": "ef78514d-b479-456b-b5db-6bf37752e8ff",
   "metadata": {},
   "outputs": [
    {
     "name": "stdout",
     "output_type": "stream",
     "text": [
      "Press Ctrl+C to terminate...\n"
     ]
    }
   ],
   "source": [
    "def knapsack(values,weights,capacity):\n",
    "    dp = [[0 for i in range(capacity+1)] for j in range(len(values)+1)]\n",
    "    for item in range(1,len(values) + 1):\n",
    "        for weight in range(1,capacity + 1):\n",
    "            if weights[item - 1] <= weight:\n",
    "                dp[item][weight] = max(dp[item-1][weight-weights[item-1]]+values[item-1],dp[item-1][weight])\n",
    "            else:\n",
    "                dp[item][weight] = dp[item-1][weight]\n",
    "    return dp[-1][-1]\n",
    "\n",
    "\n",
    "while True:\n",
    "    print(\"Press Ctrl+C to terminate...\")\n",
    "    n = int(input('Enter number of items: '))\n",
    "    values = [int(i) for i in input(\"Enter values of items:\").split(\" \")]\n",
    "    weights = [int(i) for i in input(\"Enter weights of items:\").split(\" \")]\n",
    "    capacity = int(input(\"Enter maximum weight: \"))\n",
    "    maximum_value = knapsack(values,weights,capacity)\n",
    "    print('The maximum value of items that can be carried:', maximum_value)"
   ]
  },
  {
   "cell_type": "code",
   "execution_count": 17,
   "id": "5fb52217-6b0f-4f1d-903c-5af43b681163",
   "metadata": {},
   "outputs": [
    {
     "name": "stdin",
     "output_type": "stream",
     "text": [
      "Enter the number of items:  5\n"
     ]
    },
    {
     "name": "stdout",
     "output_type": "stream",
     "text": [
      "Enter the values of the items:\n"
     ]
    },
    {
     "name": "stdin",
     "output_type": "stream",
     "text": [
      "Value of item 1:  10\n",
      "Value of item 2:  20\n",
      "Value of item 3:  30\n",
      "Value of item 4:  40\n",
      "Value of item 5:  50\n"
     ]
    },
    {
     "name": "stdout",
     "output_type": "stream",
     "text": [
      "Enter the weights of the items:\n"
     ]
    },
    {
     "name": "stdin",
     "output_type": "stream",
     "text": [
      "Weight of item 1:  20\n",
      "Weight of item 2:  30\n",
      "Weight of item 3:  66\n",
      "Weight of item 4:  40\n",
      "Weight of item 5:  50\n",
      "Enter the maximum weight capacity of the knapsack:  100\n"
     ]
    },
    {
     "name": "stdout",
     "output_type": "stream",
     "text": [
      "The maximum value achievable is: 90\n"
     ]
    }
   ],
   "source": [
    "def knapsack(values, weights, max_weight):\n",
    "    n = len(values)                                                                     # Initialize the dp table with zero values\n",
    "    dp = [[0 for _ in range(max_weight + 1)] for _ in range(n + 1)]                     # Build the dp table\n",
    "    for i in range(1, n + 1):\n",
    "        for w in range(1, max_weight + 1):\n",
    "            if weights[i-1] <= w:                                                       # Include the item or exclude it, whichever gives a higher value\n",
    "                dp[i][w] = max(dp[i-1][w], dp[i-1][w - weights[i-1]] + values[i-1])\n",
    "            else:                                                                       # Cannot include the item, so the value is the same as without it\n",
    "                dp[i][w] = dp[i-1][w]                                                   # The maximum value is in dp[n][max_weight]\n",
    "    return dp[n][max_weight]\n",
    "                                                        \n",
    "num_items = int(input(\"Enter the number of items: \"))                                   # Taking inputs from the user\n",
    "values = []\n",
    "weights = []\n",
    "print(\"Enter the values of the items:\")\n",
    "\n",
    "for i in range(num_items):\n",
    "    value = int(input(f\"Value of item {i + 1}: \"))\n",
    "    values.append(value)\n",
    "\n",
    "print(\"Enter the weights of the items:\")\n",
    "for i in range(num_items):\n",
    "    weight = int(input(f\"Weight of item {i + 1}: \"))\n",
    "    weights.append(weight)\n",
    "\n",
    "max_weight = int(input(\"Enter the maximum weight capacity of the knapsack: \"))\n",
    "max_value = knapsack(values, weights, max_weight)                                      # Solving the 0-1 Knapsack problem\n",
    "print(\"The maximum value achievable is:\", max_value)"
   ]
  },
  {
   "cell_type": "code",
   "execution_count": null,
   "id": "eea78b55-c590-4db7-91d6-f7f0dfab5f1e",
   "metadata": {},
   "outputs": [],
   "source": []
  }
 ],
 "metadata": {
  "kernelspec": {
   "display_name": "Python 3 (ipykernel)",
   "language": "python",
   "name": "python3"
  },
  "language_info": {
   "codemirror_mode": {
    "name": "ipython",
    "version": 3
   },
   "file_extension": ".py",
   "mimetype": "text/x-python",
   "name": "python",
   "nbconvert_exporter": "python",
   "pygments_lexer": "ipython3",
   "version": "3.12.7"
  }
 },
 "nbformat": 4,
 "nbformat_minor": 5
}
