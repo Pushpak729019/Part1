{
 "cells": [
  {
   "cell_type": "code",
   "execution_count": 31,
   "id": "395c18aa-32de-476b-97c1-95eddc38a947",
   "metadata": {},
   "outputs": [
    {
     "name": "stdin",
     "output_type": "stream",
     "text": [
      "Enter string: helloo\n"
     ]
    },
    {
     "name": "stdout",
     "output_type": "stream",
     "text": [
      "Character Frequencies: {'h': 1, 'e': 1, 'l': 2, 'o': 2}\n",
      "Huffman Codes:\n",
      "e  :  00\n",
      "h  :  01\n",
      "o  :  10\n",
      "l  :  11\n"
     ]
    }
   ],
   "source": [
    "\n",
    "class Node:\n",
    "                                                           \"\"\"A node in the Huffman tree.\"\"\"\n",
    "    def __init__(self, char, freq):\n",
    "        self.char = char\n",
    "        self.freq = freq\n",
    "        self.left = None\n",
    "        self.right = None\n",
    "\n",
    "    def __lt__(self, other):\n",
    "        return self.freq < other.freq\n",
    "\n",
    "def huffman_encoding(char_freq):\n",
    "                                                            \"\"\"Generate Huffman encoding from character frequencies.\"\"\"\n",
    "    heap = []                                               # Create an empty list to store nodes\n",
    "                \n",
    "    \n",
    "                                                            # Loop through each character and its frequency in the dictionary\n",
    "    for char, freq in char_freq.items():\n",
    "                                                            # Create a new Node for each character and its frequency\n",
    "        node = Node(char, freq)\n",
    "                                                            # Add this node to the heap list\n",
    "        heap.append(node)\n",
    "    \n",
    "                                                            # Convert the list into a min-heap\n",
    "    heapq.heapify(heap)\n",
    "\n",
    "                                                            # Build the Huffman tree\n",
    "    while len(heap) > 1:\n",
    "        left = heapq.heappop(heap)\n",
    "        right = heapq.heappop(heap)\n",
    "        merged = Node(None, left.freq + right.freq)\n",
    "        merged.left = left\n",
    "        merged.right = right\n",
    "        heapq.heappush(heap, merged)\n",
    "\n",
    "                                                            # The root of the tree\n",
    "    root = heap[0]\n",
    "    \n",
    "                                                            # Generate Huffman codes\n",
    "    huffman_codes = {}\n",
    "    generate_codes(root, \"\", huffman_codes)\n",
    "    \n",
    "    return huffman_codes\n",
    "\n",
    "def generate_codes(node, current_code, huffman_codes):\n",
    "                                                               \"\"\"Recursively generate Huffman codes.\"\"\"\n",
    "    if node is not None:\n",
    "        if node.char is not None:                                           # Leaf node\n",
    "            huffman_codes[node.char] = current_code\n",
    "        generate_codes(node.left, current_code + \"0\", huffman_codes)\n",
    "        generate_codes(node.right, current_code + \"1\", huffman_codes)\n",
    "\n",
    "                                                                             # Example usage\n",
    "if __name__ == \"__main__\":\n",
    "                                                                             # Example character frequencies\n",
    "    characters = input(\"Enter string:\")\n",
    "    char_freq = defaultdict(int)\n",
    "    \n",
    "    for char in characters:\n",
    "        char_freq[char] += 1\n",
    "\n",
    "                                                                             # Generate Huffman encoding\n",
    "    huffman_codes = huffman_encoding(char_freq)\n",
    "\n",
    "                                                                            # Print the resulting Huffman codes\n",
    "    print(\"Character Frequencies:\", dict(char_freq))\n",
    "    print(\"Huffman Codes:\")\n",
    "    for char, code in huffman_codes.items():\n",
    "        print(char,\" : \",code)\n"
   ]
  },
  {
   "cell_type": "code",
   "execution_count": null,
   "id": "7beee38f-736b-4f5c-934f-c5364b7b4588",
   "metadata": {},
   "outputs": [],
   "source": []
  },
  {
   "cell_type": "code",
   "execution_count": null,
   "id": "e321e139-973f-4a0e-87ba-223e64b40b61",
   "metadata": {},
   "outputs": [],
   "source": []
  }
 ],
 "metadata": {
  "kernelspec": {
   "display_name": "Python 3 (ipykernel)",
   "language": "python",
   "name": "python3"
  },
  "language_info": {
   "codemirror_mode": {
    "name": "ipython",
    "version": 3
   },
   "file_extension": ".py",
   "mimetype": "text/x-python",
   "name": "python",
   "nbconvert_exporter": "python",
   "pygments_lexer": "ipython3",
   "version": "3.12.7"
  }
 },
 "nbformat": 4,
 "nbformat_minor": 5
}
